{
  "nbformat": 4,
  "nbformat_minor": 0,
  "metadata": {
    "colab": {
      "provenance": []
    },
    "kernelspec": {
      "name": "python3",
      "display_name": "Python 3"
    },
    "language_info": {
      "name": "python"
    }
  },
  "cells": [
    {
      "cell_type": "code",
      "execution_count": null,
      "metadata": {
        "colab": {
          "base_uri": "https://localhost:8080/"
        },
        "id": "rFw562coCbmk",
        "outputId": "01c6685d-92c1-45d3-ebd7-d2ecd41cd88a"
      },
      "outputs": [
        {
          "output_type": "stream",
          "name": "stdout",
          "text": [
            "Sentiment: Positive\n",
            "Emotions:\n",
            "Neg: 0.0\n",
            "Neu: 0.266\n",
            "Pos: 0.734\n"
          ]
        },
        {
          "output_type": "stream",
          "name": "stderr",
          "text": [
            "[nltk_data] Downloading package vader_lexicon to /root/nltk_data...\n"
          ]
        }
      ],
      "source": [
        "import nltk\n",
        "from nltk.sentiment.vader import SentimentIntensityAnalyzer\n",
        "\n",
        "# Download NLTK data (if not already downloaded)\n",
        "nltk.download('vader_lexicon')\n",
        "\n",
        "# Initialize the VADER sentiment analyzer\n",
        "sid = SentimentIntensityAnalyzer()\n",
        "\n",
        "# Sample text\n",
        "text = \"I love this product! It's amazing.\"\n",
        "\n",
        "# Analyze sentiment\n",
        "sentiment_scores = sid.polarity_scores(text)\n",
        "\n",
        "# Determine sentiment\n",
        "if sentiment_scores['compound'] >= 0.05:\n",
        "    sentiment = \"Positive\"\n",
        "elif sentiment_scores['compound'] <= -0.05:\n",
        "    sentiment = \"Negative\"\n",
        "else:\n",
        "    sentiment = \"Neutral\"\n",
        "\n",
        "# Print sentiment\n",
        "print(\"Sentiment:\", sentiment)\n",
        "\n",
        "# Extract emotions\n",
        "emotions = {k: v for k, v in sentiment_scores.items() if k != 'compound'}\n",
        "\n",
        "# Print emotions\n",
        "print(\"Emotions:\")\n",
        "for emotion, score in emotions.items():\n",
        "    print(f\"{emotion.capitalize()}: {score}\")"
      ]
    },
    {
      "cell_type": "code",
      "source": [],
      "metadata": {
        "id": "GeY25lSHCr4P"
      },
      "execution_count": null,
      "outputs": []
    }
  ]
}