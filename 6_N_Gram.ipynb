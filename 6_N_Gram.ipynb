{
  "nbformat": 4,
  "nbformat_minor": 0,
  "metadata": {
    "colab": {
      "provenance": []
    },
    "kernelspec": {
      "name": "python3",
      "display_name": "Python 3"
    },
    "language_info": {
      "name": "python"
    }
  },
  "cells": [
    {
      "cell_type": "code",
      "execution_count": null,
      "metadata": {
        "id": "rTsi8HZpqEq9"
      },
      "outputs": [],
      "source": [
        "from collections import defaultdict"
      ]
    },
    {
      "cell_type": "code",
      "source": [
        "\n",
        "class NGramLanguageModel:\n",
        "    def __init__(self, n):\n",
        "        self.n = n\n",
        "        self.ngrams = defaultdict(int)\n",
        "        self.contexts = defaultdict(int)\n",
        "\n",
        "    def train(self, corpus):\n",
        "        # Generate n-grams from the corpus\n",
        "        for i in range(len(corpus) - self.n + 1):\n",
        "            ngram = tuple(corpus[i:i+self.n])\n",
        "            context = tuple(corpus[i:i+self.n-1])\n",
        "            self.ngrams[ngram] += 1\n",
        "            self.contexts[context] += 1\n",
        "\n",
        "    def probability(self, word_sequence):\n",
        "        # Compute probability of a word sequence using maximum likelihood estimation\n",
        "        sequence_probability = 1.0\n",
        "        for i in range(len(word_sequence) - self.n + 1):\n",
        "            ngram = tuple(word_sequence[i:i+self.n])\n",
        "            context = tuple(word_sequence[i:i+self.n-1])\n",
        "            ngram_count = self.ngrams[ngram]\n",
        "            context_count = self.contexts[context]\n",
        "            if context_count > 0:\n",
        "                ngram_probability = ngram_count / context_count\n",
        "            else:\n",
        "                ngram_probability = 0\n",
        "            sequence_probability *= ngram_probability\n",
        "        return sequence_probability"
      ],
      "metadata": {
        "id": "XhhOJcIWqOvO"
      },
      "execution_count": null,
      "outputs": []
    },
    {
      "cell_type": "code",
      "source": [
        "# Example usage:\n",
        "n = 3  # Set the desired n-gram size\n",
        "corpus = \"the cat sat on the mat and the cat ate the mat\".split()\n",
        "lm = NGramLanguageModel(n)\n",
        "lm.train(corpus)\n",
        "\n",
        "word_sequence = \"the cat sat on the mat\".split()\n",
        "probability = lm.probability(word_sequence)\n",
        "print(\"Probability of sequence '{}': {}\".format(' '.join(word_sequence), probability))"
      ],
      "metadata": {
        "colab": {
          "base_uri": "https://localhost:8080/"
        },
        "id": "N8KKujjfqQjd",
        "outputId": "45a72ee3-2e93-4564-b31d-f8092cd7a10b"
      },
      "execution_count": null,
      "outputs": [
        {
          "output_type": "stream",
          "name": "stdout",
          "text": [
            "Probability of sequence 'the cat sat on the mat': 0.5\n"
          ]
        }
      ]
    }
  ]
}