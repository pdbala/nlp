{
  "nbformat": 4,
  "nbformat_minor": 0,
  "metadata": {
    "colab": {
      "provenance": []
    },
    "kernelspec": {
      "name": "python3",
      "display_name": "Python 3"
    },
    "language_info": {
      "name": "python"
    }
  },
  "cells": [
    {
      "cell_type": "markdown",
      "source": [
        "# **POS Tagging**"
      ],
      "metadata": {
        "id": "_OBlOYFMvXKv"
      }
    },
    {
      "cell_type": "code",
      "execution_count": null,
      "metadata": {
        "colab": {
          "base_uri": "https://localhost:8080/"
        },
        "id": "8BgsWjBwuDxW",
        "outputId": "5626bae1-4ba3-4bf2-b948-4d5013302e48"
      },
      "outputs": [
        {
          "output_type": "stream",
          "name": "stderr",
          "text": [
            "[nltk_data] Downloading package punkt to /root/nltk_data...\n",
            "[nltk_data]   Package punkt is already up-to-date!\n",
            "[nltk_data] Downloading package averaged_perceptron_tagger to\n",
            "[nltk_data]     /root/nltk_data...\n",
            "[nltk_data]   Package averaged_perceptron_tagger is already up-to-\n",
            "[nltk_data]       date!\n"
          ]
        },
        {
          "output_type": "execute_result",
          "data": {
            "text/plain": [
              "True"
            ]
          },
          "metadata": {},
          "execution_count": 3
        }
      ],
      "source": [
        "import nltk\n",
        "from nltk.tokenize import word_tokenize\n",
        "\n",
        "# Download NLTK resources (required only once)\n",
        "nltk.download('punkt')\n",
        "nltk.download('averaged_perceptron_tagger')"
      ]
    },
    {
      "cell_type": "code",
      "source": [
        "def pos_tagging(text):\n",
        "    tokens = word_tokenize(text)\n",
        "    tagged = nltk.pos_tag(tokens)\n",
        "    return tagged"
      ],
      "metadata": {
        "id": "8JNf0pqouyKk"
      },
      "execution_count": null,
      "outputs": []
    },
    {
      "cell_type": "code",
      "source": [
        "# Example text\n",
        "text = \"I want to go to the park.\"\n",
        "\n",
        "# Perform POS tagging\n",
        "tagged_text = pos_tagging(text)\n",
        "print(tagged_text)"
      ],
      "metadata": {
        "colab": {
          "base_uri": "https://localhost:8080/"
        },
        "id": "v5C-_RlTu1Bq",
        "outputId": "140e252e-4ace-4d6a-ae76-698d48019b78"
      },
      "execution_count": null,
      "outputs": [
        {
          "output_type": "stream",
          "name": "stdout",
          "text": [
            "[('I', 'PRP'), ('want', 'VBP'), ('to', 'TO'), ('go', 'VB'), ('to', 'TO'), ('the', 'DT'), ('park', 'NN'), ('.', '.')]\n"
          ]
        }
      ]
    },
    {
      "cell_type": "markdown",
      "source": [
        "# **Word embeddings**"
      ],
      "metadata": {
        "id": "P9SHe9LjviL0"
      }
    },
    {
      "cell_type": "code",
      "source": [
        "from gensim.models import Word2Vec\n",
        "import nltk\n",
        "from nltk.tokenize import word_tokenize\n",
        "\n",
        "# Download NLTK resources (required only once)\n",
        "nltk.download('punkt')"
      ],
      "metadata": {
        "colab": {
          "base_uri": "https://localhost:8080/"
        },
        "id": "OEfC3yofuMif",
        "outputId": "26371211-ecb4-48d0-ae49-c180fdc62ed1"
      },
      "execution_count": null,
      "outputs": [
        {
          "output_type": "stream",
          "name": "stderr",
          "text": [
            "[nltk_data] Downloading package punkt to /root/nltk_data...\n",
            "[nltk_data]   Package punkt is already up-to-date!\n"
          ]
        },
        {
          "output_type": "execute_result",
          "data": {
            "text/plain": [
              "True"
            ]
          },
          "metadata": {},
          "execution_count": 6
        }
      ]
    },
    {
      "cell_type": "code",
      "source": [
        "def word_embeddings(sentences, vector_size=100, window=5, min_count=1, epochs=10):\n",
        "    tokenized_sentences = [word_tokenize(sentence.lower()) for sentence in sentences]\n",
        "    model = Word2Vec(tokenized_sentences, vector_size=vector_size, window=window, min_count=min_count, epochs=epochs)\n",
        "    return model"
      ],
      "metadata": {
        "id": "boCvhNP4uVj3"
      },
      "execution_count": null,
      "outputs": []
    },
    {
      "cell_type": "code",
      "source": [
        "# Example sentences\n",
        "sentences = [\n",
        "    \"I want to go to the park.\",\n",
        "    \"She enjoys reading books in the garden.\",\n",
        "    \"The cat is sleeping on the mat.\"\n",
        "]\n",
        "\n",
        "# Train Word2Vec model\n",
        "model = word_embeddings(sentences)\n",
        "\n",
        "# Get word embeddings\n",
        "word_embedding = model.wv['cat']\n",
        "print(\"Word embedding for 'cat':\", word_embedding)\n"
      ],
      "metadata": {
        "colab": {
          "base_uri": "https://localhost:8080/"
        },
        "id": "pMlEEdv1vEHB",
        "outputId": "3257fc3c-3f6d-4d7f-a7b7-ba985a79dd25"
      },
      "execution_count": null,
      "outputs": [
        {
          "output_type": "stream",
          "name": "stdout",
          "text": [
            "Word embedding for 'cat': [ 7.6983306e-03  9.1193542e-03  1.1321096e-03 -8.3294185e-03\n",
            "  8.4265247e-03 -3.6914316e-03  5.7402989e-03  4.3932120e-03\n",
            "  9.6893338e-03 -9.2889443e-03  9.2063379e-03 -9.2823664e-03\n",
            " -6.9066901e-03 -9.1030970e-03 -5.5502160e-03  7.3666577e-03\n",
            "  9.1618039e-03 -3.3242418e-03  3.7236006e-03 -3.6290367e-03\n",
            "  7.8815306e-03  5.8687106e-03 -1.5499239e-06 -3.6241789e-03\n",
            " -7.2267647e-03  4.7698859e-03  1.4596012e-03 -2.6145463e-03\n",
            "  7.8351870e-03 -4.0522567e-03 -9.1507761e-03 -2.2569646e-03\n",
            "  1.2432506e-04 -6.6407844e-03 -5.4887622e-03 -8.5008014e-03\n",
            "  9.2301471e-03  7.4222847e-03 -3.0170722e-04  7.3647597e-03\n",
            "  7.9488158e-03 -7.8362640e-04  6.6117863e-03  3.7735801e-03\n",
            "  5.0829053e-03  7.2518708e-03 -4.7443109e-03 -2.1883291e-03\n",
            "  8.7383558e-04  4.2336206e-03  3.3009520e-03  5.0983462e-03\n",
            "  4.5866645e-03 -8.4428051e-03 -3.1860210e-03 -7.2424263e-03\n",
            "  9.6759908e-03  4.9993284e-03  1.6937067e-04  4.1092434e-03\n",
            " -7.6511120e-03 -6.2980973e-03  3.0816491e-03  6.5389574e-03\n",
            "  3.9471188e-03  6.0188640e-03 -1.9887646e-03 -3.3381039e-03\n",
            "  2.0411005e-04 -3.1930641e-03 -5.5144462e-03 -7.7820756e-03\n",
            "  6.5350025e-03 -1.0917650e-03 -1.8904289e-03 -7.8008072e-03\n",
            "  9.3457876e-03  8.6945540e-04  1.7700521e-03  2.4908506e-03\n",
            " -7.3848981e-03  1.6317873e-03  2.9721051e-03 -8.5666813e-03\n",
            "  4.9513131e-03  2.4320891e-03  7.4973097e-03  5.0459998e-03\n",
            " -3.0332613e-03 -7.1635861e-03  7.0969332e-03  1.9047064e-03\n",
            "  5.2044215e-03  6.3835643e-03  1.9140174e-03 -6.1266623e-03\n",
            " -5.5275095e-06  8.2709426e-03 -6.0938536e-03  9.4372164e-03]\n"
          ]
        }
      ]
    },
    {
      "cell_type": "code",
      "source": [],
      "metadata": {
        "id": "rtdmqPNhvH_J"
      },
      "execution_count": null,
      "outputs": []
    }
  ]
}