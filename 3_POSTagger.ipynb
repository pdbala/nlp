{
  "nbformat": 4,
  "nbformat_minor": 0,
  "metadata": {
    "colab": {
      "provenance": []
    },
    "kernelspec": {
      "name": "python3",
      "display_name": "Python 3"
    },
    "language_info": {
      "name": "python"
    }
  },
  "cells": [
    {
      "cell_type": "code",
      "execution_count": null,
      "metadata": {
        "colab": {
          "base_uri": "https://localhost:8080/"
        },
        "id": "LuJerFvlBoZY",
        "outputId": "99ccf202-ac78-4a12-f508-3dcd7bf20712"
      },
      "outputs": [
        {
          "output_type": "stream",
          "name": "stderr",
          "text": [
            "[nltk_data] Downloading package punkt to /root/nltk_data...\n",
            "[nltk_data]   Unzipping tokenizers/punkt.zip.\n",
            "[nltk_data] Downloading package averaged_perceptron_tagger to\n",
            "[nltk_data]     /root/nltk_data...\n",
            "[nltk_data]   Unzipping taggers/averaged_perceptron_tagger.zip.\n"
          ]
        },
        {
          "output_type": "stream",
          "name": "stdout",
          "text": [
            "POS tags frequency:\n",
            "NNP: 1\n",
            "NN: 7\n",
            "VBZ: 1\n",
            "DT: 5\n",
            "IN: 3\n",
            "VBG: 1\n",
            "RP: 1\n",
            "TO: 1\n",
            "JJ: 1\n",
            ".: 1\n"
          ]
        }
      ],
      "source": [
        "import nltk\n",
        "from nltk.tokenize import word_tokenize\n",
        "from collections import Counter\n",
        "\n",
        "# Download NLTK data (if not already downloaded)\n",
        "nltk.download('punkt')\n",
        "nltk.download('averaged_perceptron_tagger')\n",
        "\n",
        "# Sample text\n",
        "text = \"POS tagging is the process of marking up a word in a corpus to a corresponding part of a speech tag.\"\n",
        "\n",
        "# Tokenize the text into words\n",
        "words = word_tokenize(text)\n",
        "\n",
        "# Perform POS tagging\n",
        "pos_tags = nltk.pos_tag(words)\n",
        "\n",
        "# Extract POS tags\n",
        "tags = [tag[1] for tag in pos_tags]\n",
        "\n",
        "# Calculate frequency of POS tags\n",
        "tag_freq = Counter(tags)\n",
        "\n",
        "print(\"POS tags frequency:\")\n",
        "for tag, freq in tag_freq.items():\n",
        "    print(f\"{tag}: {freq}\")\n"
      ]
    },
    {
      "cell_type": "code",
      "source": [
        "import nltk\n",
        "from nltk.tokenize import word_tokenize\n",
        "\n",
        "# Download NLTK data (if not already downloaded)\n",
        "nltk.download('punkt')\n",
        "nltk.download('averaged_perceptron_tagger')\n",
        "\n",
        "# Sample text\n",
        "text = \"POS tagging is the process of marking up a word in a corpus to a corresponding part of a speech tag.\"\n",
        "\n",
        "# Tokenize the text into words\n",
        "words = word_tokenize(text)\n",
        "\n",
        "# Perform POS tagging\n",
        "pos_tags = nltk.pos_tag(words)\n",
        "\n",
        "print(\"Word\\t\\tPOS Tag\")\n",
        "print(\"-------------------------\")\n",
        "for word, pos_tag in pos_tags:\n",
        "    print(f\"{word}\\t\\t{pos_tag}\")\n"
      ],
      "metadata": {
        "id": "utUWTK6iCSWi",
        "outputId": "c5809b0a-64a2-40f0-9783-49876a62eba7",
        "colab": {
          "base_uri": "https://localhost:8080/"
        }
      },
      "execution_count": null,
      "outputs": [
        {
          "output_type": "stream",
          "name": "stdout",
          "text": [
            "Word\t\tPOS Tag\n",
            "-------------------------\n",
            "POS\t\tNNP\n",
            "tagging\t\tNN\n",
            "is\t\tVBZ\n",
            "the\t\tDT\n",
            "process\t\tNN\n",
            "of\t\tIN\n",
            "marking\t\tVBG\n",
            "up\t\tRP\n",
            "a\t\tDT\n",
            "word\t\tNN\n",
            "in\t\tIN\n",
            "a\t\tDT\n",
            "corpus\t\tNN\n",
            "to\t\tTO\n",
            "a\t\tDT\n",
            "corresponding\t\tJJ\n",
            "part\t\tNN\n",
            "of\t\tIN\n",
            "a\t\tDT\n",
            "speech\t\tNN\n",
            "tag\t\tNN\n",
            ".\t\t.\n"
          ]
        },
        {
          "output_type": "stream",
          "name": "stderr",
          "text": [
            "[nltk_data] Downloading package punkt to /root/nltk_data...\n",
            "[nltk_data]   Package punkt is already up-to-date!\n",
            "[nltk_data] Downloading package averaged_perceptron_tagger to\n",
            "[nltk_data]     /root/nltk_data...\n",
            "[nltk_data]   Package averaged_perceptron_tagger is already up-to-\n",
            "[nltk_data]       date!\n"
          ]
        }
      ]
    },
    {
      "cell_type": "code",
      "source": [],
      "metadata": {
        "id": "aNzVQttXCTF5"
      },
      "execution_count": null,
      "outputs": []
    }
  ]
}