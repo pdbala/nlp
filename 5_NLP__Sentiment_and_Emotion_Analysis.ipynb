{
  "nbformat": 4,
  "nbformat_minor": 0,
  "metadata": {
    "colab": {
      "provenance": []
    },
    "kernelspec": {
      "name": "python3",
      "display_name": "Python 3"
    },
    "language_info": {
      "name": "python"
    }
  },
  "cells": [
    {
      "cell_type": "markdown",
      "source": [
        "# **Sentiment**"
      ],
      "metadata": {
        "id": "gKK5YBxUwRsf"
      }
    },
    {
      "cell_type": "code",
      "execution_count": null,
      "metadata": {
        "id": "gqdWolFfeZGx",
        "colab": {
          "base_uri": "https://localhost:8080/"
        },
        "outputId": "d6c19567-10c6-49f7-be72-2872f9612df7"
      },
      "outputs": [
        {
          "output_type": "stream",
          "name": "stderr",
          "text": [
            "[nltk_data] Downloading package punkt to /root/nltk_data...\n",
            "[nltk_data]   Package punkt is already up-to-date!\n",
            "[nltk_data] Downloading package vader_lexicon to /root/nltk_data...\n",
            "[nltk_data]   Package vader_lexicon is already up-to-date!\n"
          ]
        },
        {
          "output_type": "execute_result",
          "data": {
            "text/plain": [
              "True"
            ]
          },
          "metadata": {},
          "execution_count": 17
        }
      ],
      "source": [
        "import nltk\n",
        "from nltk.sentiment import SentimentIntensityAnalyzer\n",
        "from nltk.tokenize import word_tokenize\n",
        "\n",
        "# Download necessary NLTK resources\n",
        "nltk.download('punkt')\n",
        "nltk.download('vader_lexicon')"
      ]
    },
    {
      "cell_type": "code",
      "source": [
        "# Initialize Sentiment Intensity Analyzer\n",
        "sid = SentimentIntensityAnalyzer()\n",
        "\n",
        "def analyze_sentiment(text):\n",
        "    \"\"\"\n",
        "    Analyzes the sentiment of the given text.\n",
        "    Returns 'positive', 'negative', or 'neutral'.\n",
        "    \"\"\"\n",
        "    # Tokenize the text\n",
        "    words = word_tokenize(text)\n",
        "    # Calculate sentiment score\n",
        "    sentiment_score = sid.polarity_scores(text)['compound']\n",
        "    # Determine sentiment label\n",
        "    if sentiment_score >= 0.05:\n",
        "        return 'positive'\n",
        "    elif sentiment_score <= -0.05:\n",
        "        return 'negative'\n",
        "    else:\n",
        "        return 'neutral'"
      ],
      "metadata": {
        "id": "PWibe0S5nN7Z"
      },
      "execution_count": null,
      "outputs": []
    },
    {
      "cell_type": "code",
      "source": [
        "text = \"I love this movie, it's fantastic!\"\n",
        "print(\"Sentiment:\", analyze_sentiment(text))\n"
      ],
      "metadata": {
        "colab": {
          "base_uri": "https://localhost:8080/"
        },
        "id": "iU6pixFVnWrM",
        "outputId": "c5cc972c-7a40-4cad-80d5-fdf656ba7da5"
      },
      "execution_count": null,
      "outputs": [
        {
          "output_type": "stream",
          "name": "stdout",
          "text": [
            "Sentiment: positive\n"
          ]
        }
      ]
    },
    {
      "cell_type": "markdown",
      "source": [
        "# **Emotion**"
      ],
      "metadata": {
        "id": "bRGgWR7BwXYJ"
      }
    },
    {
      "cell_type": "code",
      "source": [
        "import nltk\n",
        "from nltk.corpus import wordnet\n",
        "# Download NLTK resources\n",
        "nltk.download('punkt')\n",
        "nltk.download('wordnet')"
      ],
      "metadata": {
        "colab": {
          "base_uri": "https://localhost:8080/"
        },
        "id": "xjCFh9lkljrb",
        "outputId": "a340dd76-6e36-4900-ea98-a7a7c75e986f"
      },
      "execution_count": null,
      "outputs": [
        {
          "output_type": "stream",
          "name": "stderr",
          "text": [
            "[nltk_data] Downloading package punkt to /root/nltk_data...\n",
            "[nltk_data]   Package punkt is already up-to-date!\n",
            "[nltk_data] Downloading package wordnet to /root/nltk_data...\n",
            "[nltk_data]   Package wordnet is already up-to-date!\n"
          ]
        },
        {
          "output_type": "execute_result",
          "data": {
            "text/plain": [
              "True"
            ]
          },
          "metadata": {},
          "execution_count": 5
        }
      ]
    },
    {
      "cell_type": "code",
      "source": [
        "def get_emotion(word):\n",
        "    \"\"\"\n",
        "    Get the emotion associated with the given word using WordNet.\n",
        "    \"\"\"\n",
        "    # Initialize emotion list\n",
        "    emotions = []\n",
        "    # Get synsets for the word\n",
        "    synsets = wordnet.synsets(word)\n",
        "    for synset in synsets:\n",
        "        # Get hypernyms (more general terms) for each synset\n",
        "        hypernyms = synset.hypernyms()\n",
        "        for hypernym in hypernyms:\n",
        "            # Check if hypernym belongs to one of the basic emotion synsets\n",
        "            if hypernym.name() in ['joy.n.01', 'sadness.n.01', 'fear.n.01', 'anger.n.01']:\n",
        "                emotions.append(hypernym.name().split('.')[0])  # Extract emotion label\n",
        "    return emotions\n",
        "\n",
        "def analyze_emotions(text):\n",
        "    # Define a dictionary mapping basic emotions to associated words\n",
        "    emotion_words = {\n",
        "        'joy': ['happy', 'joyful', 'excited', 'delighted', 'content'],\n",
        "        'sadness': ['sad', 'unhappy', 'depressed', 'gloomy', 'miserable'],\n",
        "        'fear': ['fearful', 'scared', 'anxious', 'worried', 'nervous'],\n",
        "        'anger': ['angry', 'mad', 'irritated', 'frustrated', 'furious']\n",
        "    }\n",
        "    # Initialize emotion list\n",
        "    emotions = []\n",
        "    # Tokenize the text\n",
        "    words = nltk.word_tokenize(text)\n",
        "    # Iterate through each word and check if it belongs to any emotion category\n",
        "    for word in words:\n",
        "        for emotion, word_list in emotion_words.items():\n",
        "            if word.lower() in word_list:\n",
        "                emotions.append(emotion)\n",
        "    return list(set(emotions))  # Return unique emotions only\n",
        "\n"
      ],
      "metadata": {
        "id": "QOY0Dur3l1Xv"
      },
      "execution_count": null,
      "outputs": []
    },
    {
      "cell_type": "code",
      "source": [
        "# Example text\n",
        "text = \"I feel so happy when it rains.\"\n",
        "print(\"Emotions:\", analyze_emotions(text))"
      ],
      "metadata": {
        "colab": {
          "base_uri": "https://localhost:8080/"
        },
        "id": "FY5DJJnxmNqd",
        "outputId": "7b5bcfd7-4c24-42aa-f9d6-775f1f5bdaf9"
      },
      "execution_count": null,
      "outputs": [
        {
          "output_type": "stream",
          "name": "stdout",
          "text": [
            "Emotions: ['joy']\n"
          ]
        }
      ]
    },
    {
      "cell_type": "code",
      "source": [],
      "metadata": {
        "id": "iObXApfImOVu"
      },
      "execution_count": null,
      "outputs": []
    }
  ]
}